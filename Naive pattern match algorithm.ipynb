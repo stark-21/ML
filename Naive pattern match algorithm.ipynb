{
 "cells": [
  {
   "cell_type": "code",
   "execution_count": 29,
   "metadata": {},
   "outputs": [
    {
     "name": "stdout",
     "output_type": "stream",
     "text": [
      "[2, 5]\n"
     ]
    }
   ],
   "source": [
    "t = \"tecsecse\"\n",
    "p=\"se\"\n",
    "\n",
    "occur=[]\n",
    "\n",
    "for i in range(len(t)-len(p)+1):\n",
    "    match=True\n",
    "    for j in range(len(p)):\n",
    "        if t[i+1] != p[j]:\n",
    "            match =False\n",
    "            break\n",
    "            \n",
    "        if match:\n",
    "            occur.append(i)\n",
    "print(occur)\n",
    "                \n",
    "            \n",
    "        \n",
    "    "
   ]
  },
  {
   "cell_type": "code",
   "execution_count": 24,
   "metadata": {},
   "outputs": [
    {
     "name": "stdout",
     "output_type": "stream",
     "text": [
      "Pattern found at index 4\n",
      "Pattern found at index 12\n"
     ]
    }
   ],
   "source": [
    "def search(pat, txt): \n",
    "    M = len(pat) \n",
    "    N = len(txt) \n",
    "    i = 0\n",
    "  \n",
    "    while i <= N-M: \n",
    "        \n",
    "        for j in range(M): \n",
    "            if txt[i+j] != pat[j]: \n",
    "                break\n",
    "            j += 1\n",
    "  \n",
    "        if j==M:    \n",
    "            print (\"Pattern found at index \"+ str(i))  \n",
    "            i = i + M \n",
    "        elif j==0: \n",
    "            i = i + 1\n",
    "        else: \n",
    "            i = i+ j    \n",
    "  \n",
    "\n",
    "txt = \"ABCEABCDABCEABCD\"\n",
    "pat = \"ABCD\"\n",
    "search(pat, txt) "
   ]
  },
  {
   "cell_type": "code",
   "execution_count": null,
   "metadata": {},
   "outputs": [],
   "source": []
  }
 ],
 "metadata": {
  "kernelspec": {
   "display_name": "Python 3",
   "language": "python",
   "name": "python3"
  },
  "language_info": {
   "codemirror_mode": {
    "name": "ipython",
    "version": 3
   },
   "file_extension": ".py",
   "mimetype": "text/x-python",
   "name": "python",
   "nbconvert_exporter": "python",
   "pygments_lexer": "ipython3",
   "version": "3.7.0"
  }
 },
 "nbformat": 4,
 "nbformat_minor": 2
}
