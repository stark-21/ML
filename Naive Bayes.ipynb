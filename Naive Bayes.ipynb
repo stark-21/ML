{
 "cells": [
  {
   "cell_type": "code",
   "execution_count": 10,
   "metadata": {},
   "outputs": [
    {
     "name": "stderr",
     "output_type": "stream",
     "text": [
      "C:\\Users\\Amol\\Anaconda3\\lib\\site-packages\\pandas\\core\\frame.py:6211: FutureWarning: Sorting because non-concatenation axis is not aligned. A future version\n",
      "of pandas will change to not sort by default.\n",
      "\n",
      "To accept the future behavior, pass 'sort=False'.\n",
      "\n",
      "To retain the current behavior and silence the warning, pass 'sort=True'.\n",
      "\n",
      "  sort=sort)\n"
     ]
    }
   ],
   "source": [
    "import os\n",
    "import io\n",
    "from pandas import DataFrame\n",
    "from sklearn.feature_extraction.text import CountVectorizer\n",
    "from sklearn.naive_bayes import MultinomialNB\n",
    "\n",
    "def readFiles(path):\n",
    "    for root, dirnames, filenames in os.walk(path):\n",
    "        for filename in filenames:\n",
    "            path = os.path.join(root, filename)\n",
    "\n",
    "            inBody = False\n",
    "            lines = []\n",
    "            f = io.open(path, 'r', encoding='latin1')\n",
    "            for line in f:\n",
    "                if inBody:\n",
    "                    lines.append(line)\n",
    "                elif line == '\\n':\n",
    "                    inBody = True\n",
    "            f.close()\n",
    "            message = '\\n'.join(lines)\n",
    "            yield path, message\n",
    "\n",
    "def dataFrameFromDirectory(path , classification):\n",
    "\n",
    "    rows = []\n",
    "    index= []\n",
    "    for filename, message in readFiles(path):\n",
    "        rows.append({'message': message, 'class': classification})\n",
    "        index.append(filename)\n",
    "\n",
    "    return DataFrame(rows, index=index)\n",
    "\n",
    "data = DataFrame({'message':[] , 'class':[]})\n",
    "\n",
    "data = data.append(dataFrameFromDirectory('C:/Users/Amol/DataScience-Python3/emails/spam','spam'))\n",
    "data = data.append(dataFrameFromDirectory('C:/Users/Amol/DataScience-Python3/emails/ham','ham'))"
   ]
  },
  {
   "cell_type": "code",
   "execution_count": 18,
   "metadata": {},
   "outputs": [
    {
     "name": "stdout",
     "output_type": "stream",
     "text": [
      "                                                   class  \\\n",
      "C:/Users/Amol/DataScience-Python3/emails/spam\\0...  spam   \n",
      "C:/Users/Amol/DataScience-Python3/emails/spam\\0...  spam   \n",
      "C:/Users/Amol/DataScience-Python3/emails/spam\\0...  spam   \n",
      "C:/Users/Amol/DataScience-Python3/emails/spam\\0...  spam   \n",
      "C:/Users/Amol/DataScience-Python3/emails/spam\\0...  spam   \n",
      "C:/Users/Amol/DataScience-Python3/emails/spam\\0...  spam   \n",
      "C:/Users/Amol/DataScience-Python3/emails/spam\\0...  spam   \n",
      "C:/Users/Amol/DataScience-Python3/emails/spam\\0...  spam   \n",
      "C:/Users/Amol/DataScience-Python3/emails/spam\\0...  spam   \n",
      "C:/Users/Amol/DataScience-Python3/emails/spam\\0...  spam   \n",
      "C:/Users/Amol/DataScience-Python3/emails/spam\\0...  spam   \n",
      "C:/Users/Amol/DataScience-Python3/emails/spam\\0...  spam   \n",
      "C:/Users/Amol/DataScience-Python3/emails/spam\\0...  spam   \n",
      "C:/Users/Amol/DataScience-Python3/emails/spam\\0...  spam   \n",
      "C:/Users/Amol/DataScience-Python3/emails/spam\\0...  spam   \n",
      "C:/Users/Amol/DataScience-Python3/emails/spam\\0...  spam   \n",
      "C:/Users/Amol/DataScience-Python3/emails/spam\\0...  spam   \n",
      "C:/Users/Amol/DataScience-Python3/emails/spam\\0...  spam   \n",
      "C:/Users/Amol/DataScience-Python3/emails/spam\\0...  spam   \n",
      "C:/Users/Amol/DataScience-Python3/emails/spam\\0...  spam   \n",
      "C:/Users/Amol/DataScience-Python3/emails/spam\\0...  spam   \n",
      "C:/Users/Amol/DataScience-Python3/emails/spam\\0...  spam   \n",
      "C:/Users/Amol/DataScience-Python3/emails/spam\\0...  spam   \n",
      "C:/Users/Amol/DataScience-Python3/emails/spam\\0...  spam   \n",
      "C:/Users/Amol/DataScience-Python3/emails/spam\\0...  spam   \n",
      "C:/Users/Amol/DataScience-Python3/emails/spam\\0...  spam   \n",
      "C:/Users/Amol/DataScience-Python3/emails/spam\\0...  spam   \n",
      "C:/Users/Amol/DataScience-Python3/emails/spam\\0...  spam   \n",
      "C:/Users/Amol/DataScience-Python3/emails/spam\\0...  spam   \n",
      "C:/Users/Amol/DataScience-Python3/emails/spam\\0...  spam   \n",
      "...                                                  ...   \n",
      "C:/Users/Amol/DataScience-Python3/emails/ham\\02...   ham   \n",
      "C:/Users/Amol/DataScience-Python3/emails/ham\\02...   ham   \n",
      "C:/Users/Amol/DataScience-Python3/emails/ham\\02...   ham   \n",
      "C:/Users/Amol/DataScience-Python3/emails/ham\\02...   ham   \n",
      "C:/Users/Amol/DataScience-Python3/emails/ham\\02...   ham   \n",
      "C:/Users/Amol/DataScience-Python3/emails/ham\\02...   ham   \n",
      "C:/Users/Amol/DataScience-Python3/emails/ham\\02...   ham   \n",
      "C:/Users/Amol/DataScience-Python3/emails/ham\\02...   ham   \n",
      "C:/Users/Amol/DataScience-Python3/emails/ham\\02...   ham   \n",
      "C:/Users/Amol/DataScience-Python3/emails/ham\\02...   ham   \n",
      "C:/Users/Amol/DataScience-Python3/emails/ham\\02...   ham   \n",
      "C:/Users/Amol/DataScience-Python3/emails/ham\\02...   ham   \n",
      "C:/Users/Amol/DataScience-Python3/emails/ham\\02...   ham   \n",
      "C:/Users/Amol/DataScience-Python3/emails/ham\\02...   ham   \n",
      "C:/Users/Amol/DataScience-Python3/emails/ham\\02...   ham   \n",
      "C:/Users/Amol/DataScience-Python3/emails/ham\\02...   ham   \n",
      "C:/Users/Amol/DataScience-Python3/emails/ham\\02...   ham   \n",
      "C:/Users/Amol/DataScience-Python3/emails/ham\\02...   ham   \n",
      "C:/Users/Amol/DataScience-Python3/emails/ham\\02...   ham   \n",
      "C:/Users/Amol/DataScience-Python3/emails/ham\\02...   ham   \n",
      "C:/Users/Amol/DataScience-Python3/emails/ham\\02...   ham   \n",
      "C:/Users/Amol/DataScience-Python3/emails/ham\\02...   ham   \n",
      "C:/Users/Amol/DataScience-Python3/emails/ham\\02...   ham   \n",
      "C:/Users/Amol/DataScience-Python3/emails/ham\\02...   ham   \n",
      "C:/Users/Amol/DataScience-Python3/emails/ham\\02...   ham   \n",
      "C:/Users/Amol/DataScience-Python3/emails/ham\\02...   ham   \n",
      "C:/Users/Amol/DataScience-Python3/emails/ham\\02...   ham   \n",
      "C:/Users/Amol/DataScience-Python3/emails/ham\\02...   ham   \n",
      "C:/Users/Amol/DataScience-Python3/emails/ham\\02...   ham   \n",
      "C:/Users/Amol/DataScience-Python3/emails/ham\\02...   ham   \n",
      "\n",
      "                                                                                              message  \n",
      "C:/Users/Amol/DataScience-Python3/emails/spam\\0...  <!DOCTYPE HTML PUBLIC \"-//W3C//DTD HTML 4.0 Tr...  \n",
      "C:/Users/Amol/DataScience-Python3/emails/spam\\0...  1) Fight The Risk of Cancer!\\n\\nhttp://www.adc...  \n",
      "C:/Users/Amol/DataScience-Python3/emails/spam\\0...  1) Fight The Risk of Cancer!\\n\\nhttp://www.adc...  \n",
      "C:/Users/Amol/DataScience-Python3/emails/spam\\0...  ##############################################...  \n",
      "C:/Users/Amol/DataScience-Python3/emails/spam\\0...  I thought you might like these:\\n\\n1) Slim Dow...  \n",
      "C:/Users/Amol/DataScience-Python3/emails/spam\\0...  A POWERHOUSE GIFTING PROGRAM You Don't Want To...  \n",
      "C:/Users/Amol/DataScience-Python3/emails/spam\\0...  Help wanted.  We are a 14 year old fortune 500...  \n",
      "C:/Users/Amol/DataScience-Python3/emails/spam\\0...  <html>\\n\\n<head>\\n\\n<title>ReliaQuote - Save U...  \n",
      "C:/Users/Amol/DataScience-Python3/emails/spam\\0...  TIRED OF THE BULL OUT THERE?\\n\\nWant To Stop L...  \n",
      "C:/Users/Amol/DataScience-Python3/emails/spam\\0...  Dear ricardo1 ,\\n\\n\\n\\n<html>\\n\\n<body>\\n\\n<ce...  \n",
      "C:/Users/Amol/DataScience-Python3/emails/spam\\0...  Cellular Phone Accessories All At Below Wholes...  \n",
      "C:/Users/Amol/DataScience-Python3/emails/spam\\0...  <table width=\"600\" border=\"20\" align=\"center\" ...  \n",
      "C:/Users/Amol/DataScience-Python3/emails/spam\\0...  1) Fight The Risk of Cancer!\\n\\nhttp://www.adc...  \n",
      "C:/Users/Amol/DataScience-Python3/emails/spam\\0...  <HTML><HEAD><TITLE>FREE Motorola Cell Phone wi...  \n",
      "C:/Users/Amol/DataScience-Python3/emails/spam\\0...  <HTML><HEAD><TITLE>Lowest Rate Services</TITLE...  \n",
      "C:/Users/Amol/DataScience-Python3/emails/spam\\0...  \\n\\n\\n\\nWant to watch Sporting Events?--Movies...  \n",
      "C:/Users/Amol/DataScience-Python3/emails/spam\\0...  Help wanted.  We are a 14 year old fortune 500...  \n",
      "C:/Users/Amol/DataScience-Python3/emails/spam\\0...  DEAR FRIEND,I AM MRS.  SESE-SEKO WIDOW OF LATE...  \n",
      "C:/Users/Amol/DataScience-Python3/emails/spam\\0...  Lowest rates available for term life insurance...  \n",
      "C:/Users/Amol/DataScience-Python3/emails/spam\\0...  1) Fight The Risk of Cancer!\\n\\nhttp://www.adc...  \n",
      "C:/Users/Amol/DataScience-Python3/emails/spam\\0...  CENTRAL BANK OF NIGERIA\\n\\nFOREIGN REMITTANCE ...  \n",
      "C:/Users/Amol/DataScience-Python3/emails/spam\\0...  --===_SecAtt_000_1fheucnqggtggp\\n\\nContent-Typ...  \n",
      "C:/Users/Amol/DataScience-Python3/emails/spam\\0...  ------=_NextPart_000_00B2_83B03D1E.C6530E24\\n\\...  \n",
      "C:/Users/Amol/DataScience-Python3/emails/spam\\0...  This is a multi-part message in MIME format.\\n...  \n",
      "C:/Users/Amol/DataScience-Python3/emails/spam\\0...  <HTML><HEAD>\\n\\n<META http-equiv=3DContent-Typ...  \n",
      "C:/Users/Amol/DataScience-Python3/emails/spam\\0...  DEAR FRIEND,I AM MRS.  SESE-SEKO WIDOW OF LATE...  \n",
      "C:/Users/Amol/DataScience-Python3/emails/spam\\0...  1) Fight The Risk of Cancer!\\n\\nhttp://www.adc...  \n",
      "C:/Users/Amol/DataScience-Python3/emails/spam\\0...  <HTML><HEAD><TITLE>MILFhunter</TITLE>\\n\\n<META...  \n",
      "C:/Users/Amol/DataScience-Python3/emails/spam\\0...  <html>\\n\\n<head>\\n\\n</head>\\n\\n<body>\\n\\n\\n\\n<...  \n",
      "C:/Users/Amol/DataScience-Python3/emails/spam\\0...  <html>\\n\\n\\n\\n<head>\\n\\n<meta http-equiv=3D\"Co...  \n",
      "...                                                                                               ...  \n",
      "C:/Users/Amol/DataScience-Python3/emails/ham\\02...  This is possible, however using SA as a block ...  \n",
      "C:/Users/Amol/DataScience-Python3/emails/ham\\02...  \\n\\n--- Martin Adamson <martin@srv0.ems.ed.ac....  \n",
      "C:/Users/Amol/DataScience-Python3/emails/ham\\02...  ----- Original Message -----\\n\\nFrom: \"Tim Cha...  \n",
      "C:/Users/Amol/DataScience-Python3/emails/ham\\02...  \\n\\n> Mr Tim Chapman, freelance gentleman of l...  \n",
      "C:/Users/Amol/DataScience-Python3/emails/ham\\02...  Smith, Graham - Computing Technician wrote:\\n\\...  \n",
      "C:/Users/Amol/DataScience-Python3/emails/ham\\02...  Geege wrote a strange story:\\n\\n>I know a guy ...  \n",
      "C:/Users/Amol/DataScience-Python3/emails/ham\\02...  \\n\\n[Paul Moore]\\n\\n>    but let's walk before...  \n",
      "C:/Users/Amol/DataScience-Python3/emails/ham\\02...  On Mon, Nov 25, 2002 at 06:54:49PM +0000, Phil...  \n",
      "C:/Users/Amol/DataScience-Python3/emails/ham\\02...  \\n\\nI don't know how one can expect better and...  \n",
      "C:/Users/Amol/DataScience-Python3/emails/ham\\02...  No, you need to learn how declarations work in...  \n",
      "C:/Users/Amol/DataScience-Python3/emails/ham\\02...  \\n\\n    Richie> As I understand it, post-1.8x ...  \n",
      "C:/Users/Amol/DataScience-Python3/emails/ham\\02...  \\n\\n    Paul> I suspect the best answer is to ...  \n",
      "C:/Users/Amol/DataScience-Python3/emails/ham\\02...  The Times\\n\\n\\n\\n \\n\\n December 04, 2002 \\n\\n ...  \n",
      "C:/Users/Amol/DataScience-Python3/emails/ham\\02...  I have to say I was surprised about Jacko dang...  \n",
      "C:/Users/Amol/DataScience-Python3/emails/ham\\02...  Now then I recently read a novel about exactly...  \n",
      "C:/Users/Amol/DataScience-Python3/emails/ham\\02...  What the hell is it with these mini remote con...  \n",
      "C:/Users/Amol/DataScience-Python3/emails/ham\\02...  here, for your enjoyment, is a little somethin...  \n",
      "C:/Users/Amol/DataScience-Python3/emails/ham\\02...  Sean O'Donnell wrote:\\n\\n> Doesnt answer your ...  \n",
      "C:/Users/Amol/DataScience-Python3/emails/ham\\02...  Joe McNally writes:\\n\\n\\n\\n> What the hell is ...  \n",
      "C:/Users/Amol/DataScience-Python3/emails/ham\\02...  http://news.bbc.co.uk/1/hi/world/europe/254182...  \n",
      "C:/Users/Amol/DataScience-Python3/emails/ham\\02...  Hi all.\\n\\nDoes anyone know how to set up dual...  \n",
      "C:/Users/Amol/DataScience-Python3/emails/ham\\02...  Carlos Luna wrote:\\n\\n\\n\\n>Hi all.\\n\\n>Does an...  \n",
      "C:/Users/Amol/DataScience-Python3/emails/ham\\02...  Hi all\\n\\n\\n\\n\\n\\nI have a prob when trying to...  \n",
      "C:/Users/Amol/DataScience-Python3/emails/ham\\02...  Tim Chapman writes:\\n\\n\\n\\n> http://news.bbc.c...  \n",
      "C:/Users/Amol/DataScience-Python3/emails/ham\\02...  > I had the same problem when installing Win o...  \n",
      "C:/Users/Amol/DataScience-Python3/emails/ham\\02...  Man killed 'trying to surf' on Tube train \\n\\n...  \n",
      "C:/Users/Amol/DataScience-Python3/emails/ham\\02...  Hi Gianni,\\n\\n\\n\\nA very good resource for thi...  \n",
      "C:/Users/Amol/DataScience-Python3/emails/ham\\02...  Gianni Ponzi wrote:\\n\\n> I have a prob when tr...  \n",
      "C:/Users/Amol/DataScience-Python3/emails/ham\\02...  Neale Pickett <neale@woozle.org> writes:\\n\\n\\n...  \n",
      "C:/Users/Amol/DataScience-Python3/emails/ham\\02...  \\n\\nHi,\\n\\n\\n\\nI think you need to give us a l...  \n",
      "\n",
      "[3000 rows x 2 columns]\n"
     ]
    }
   ],
   "source": [
    "print(data)"
   ]
  },
  {
   "cell_type": "code",
   "execution_count": 13,
   "metadata": {},
   "outputs": [
    {
     "data": {
      "text/plain": [
       "MultinomialNB(alpha=1.0, class_prior=None, fit_prior=True)"
      ]
     },
     "execution_count": 13,
     "metadata": {},
     "output_type": "execute_result"
    }
   ],
   "source": [
    "vectorizer = CountVectorizer()\n",
    "counts = vectorizer.fit_transform(data['message'].values)\n",
    "\n",
    "classifier = MultinomialNB()\n",
    "targets = data['class'].values\n",
    "classifier.fit(counts,targets)"
   ]
  },
  {
   "cell_type": "code",
   "execution_count": 26,
   "metadata": {},
   "outputs": [
    {
     "data": {
      "text/plain": [
       "array(['spam', 'ham'], dtype='<U4')"
      ]
     },
     "execution_count": 26,
     "metadata": {},
     "output_type": "execute_result"
    }
   ],
   "source": [
    "examples = [\"Free Viagra now!!!\", \"Hi Bob, how about a game of cricket tomorrow?\"]\n",
    "exaples_count = vectorizer.transform(examples)\n",
    "\n",
    "predictions = classifier.predict(exaples_count)\n",
    "predictions"
   ]
  },
  {
   "cell_type": "code",
   "execution_count": null,
   "metadata": {},
   "outputs": [],
   "source": []
  },
  {
   "cell_type": "code",
   "execution_count": null,
   "metadata": {},
   "outputs": [],
   "source": []
  }
 ],
 "metadata": {
  "kernelspec": {
   "display_name": "Python 3",
   "language": "python",
   "name": "python3"
  },
  "language_info": {
   "codemirror_mode": {
    "name": "ipython",
    "version": 3
   },
   "file_extension": ".py",
   "mimetype": "text/x-python",
   "name": "python",
   "nbconvert_exporter": "python",
   "pygments_lexer": "ipython3",
   "version": "3.7.0"
  }
 },
 "nbformat": 4,
 "nbformat_minor": 2
}
